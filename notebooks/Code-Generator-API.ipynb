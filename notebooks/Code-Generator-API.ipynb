{
 "cells": [
  {
   "cell_type": "code",
   "execution_count": 1,
   "id": "7acfbce5-cad0-4620-b9e8-608f05c07586",
   "metadata": {},
   "outputs": [
    {
     "data": {
      "text/plain": [
       "'import os\\nfrom openai import OpenAI\\n\\nclient = OpenAI(api_key=os.getenv(\"OPENAI_API_KEY\"))\\n\\nresponse = client.chat.completions.create(\\n    model=\"gpt-3.5-turbo\",\\n    messages=[\\n        {\"role\": \"system\", \"content\": \"You are a helpful assistant.\"},\\n        {\"role\": \"user\", \"content\": \"Write a Python function that is a calculator.\"}\\n    ]\\n)\\n\\nprint(response)\\n# Extract the code content from the response\\ncode_content = response.choices[0].message.content.strip()\\n\\n# Save the response content to a file\\nfile_name = \"generated_code.py\"\\n\\nwith open(file_name, \"w\") as file:\\n    file.write(code_content)\\n\\nprint(f\"Code has been saved to {file_name}\")'"
      ]
     },
     "execution_count": 1,
     "metadata": {},
     "output_type": "execute_result"
    }
   ],
   "source": [
    "'''import os\n",
    "from openai import OpenAI\n",
    "\n",
    "client = OpenAI(api_key=os.getenv(\"OPENAI_API_KEY\"))\n",
    "\n",
    "response = client.chat.completions.create(\n",
    "    model=\"gpt-3.5-turbo\",\n",
    "    messages=[\n",
    "        {\"role\": \"system\", \"content\": \"You are a helpful assistant.\"},\n",
    "        {\"role\": \"user\", \"content\": \"Write a Python function that is a calculator.\"}\n",
    "    ]\n",
    ")\n",
    "\n",
    "print(response)\n",
    "# Extract the code content from the response\n",
    "code_content = response.choices[0].message.content.strip()\n",
    "\n",
    "# Save the response content to a file\n",
    "file_name = \"generated_code.py\"\n",
    "\n",
    "with open(file_name, \"w\") as file:\n",
    "    file.write(code_content)\n",
    "\n",
    "print(f\"Code has been saved to {file_name}\")'''"
   ]
  },
  {
   "cell_type": "code",
   "execution_count": 2,
   "id": "756afb31-3778-483d-97ab-2b267b7fcd99",
   "metadata": {},
   "outputs": [
    {
     "name": "stdout",
     "output_type": "stream",
     "text": [
      "Generated code has been saved to generated_code25.py\n"
     ]
    }
   ],
   "source": [
    "import os\n",
    "from openai import OpenAI\n",
    "\n",
    "def read_specification(file_path):\n",
    "    \"\"\"This reads the specification from the file\"\"\"\n",
    "    with open(file_path, 'r') as file:\n",
    "        return file.read()\n",
    "\n",
    "def generate_prompt(specification):\n",
    "    \"\"\"This is the personality for the AI and what it should do\"\"\"\n",
    "    prompt = (\n",
    "        \"You are a Python developer. Based on the following specification, \"\n",
    "        \"generate a Python file.\\n\\n\"\n",
    "        \"Specification:\\n\"\n",
    "        f\"{specification}\\n\\n\"\n",
    "        \"Make sure the file is commented and easy to understand.\"\n",
    "    )\n",
    "    return prompt\n",
    "\n",
    "def call_openai_api(client, prompt):\n",
    "    \"\"\"Calls the API to generate code based on the spec.\"\"\"\n",
    "    response = client.chat.completions.create(\n",
    "        model=\"gpt-3.5-turbo\",\n",
    "        messages=[\n",
    "            {\"role\": \"system\", \"content\": \"You are a helpful assistant.\"},\n",
    "            {\"role\": \"user\", \"content\": prompt}\n",
    "        ]\n",
    "    )\n",
    "    return response.choices[0].message.content.strip()\n",
    "\n",
    "def save_to_file(content, file_path):\n",
    "    \"\"\"Saves the generated content to a file\"\"\"\n",
    "    with open(file_path, 'w') as file:\n",
    "        file.write(content)\n",
    "\n",
    "def main(specification_file, output_file):\n",
    "    client = OpenAI(api_key=os.getenv(\"OPENAI_API_KEY\"))\n",
    "\n",
    "    # Read the specification\n",
    "    specification = read_specification(specification_file)\n",
    "\n",
    "    # Generate the prompt\n",
    "    prompt = generate_prompt(specification)\n",
    "\n",
    "    # Call the OpenAI API\n",
    "    generated_code = call_openai_api(client, prompt)\n",
    "\n",
    "    # Save the generated code to a file\n",
    "    save_to_file(generated_code, output_file)\n",
    "\n",
    "    print(f\"Generated code has been saved to {output_file}\")\n",
    "\n",
    "# Example usage:\n",
    "specification_file = \"specification.txt\"  # Path to the specification file\n",
    "output_file = \"generated_code25.py\"         # Path to the output file\n",
    "\n",
    "main(specification_file, output_file)\n"
   ]
  }
 ],
 "metadata": {
  "kernelspec": {
   "display_name": "Python 3 (ipykernel)",
   "language": "python",
   "name": "python3"
  },
  "language_info": {
   "codemirror_mode": {
    "name": "ipython",
    "version": 3
   },
   "file_extension": ".py",
   "mimetype": "text/x-python",
   "name": "python",
   "nbconvert_exporter": "python",
   "pygments_lexer": "ipython3",
   "version": "3.11.9"
  }
 },
 "nbformat": 4,
 "nbformat_minor": 5
}
