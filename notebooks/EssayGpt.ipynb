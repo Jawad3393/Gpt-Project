{
 "cells": [
  {
   "cell_type": "code",
   "execution_count": 1,
   "id": "4d356707-3d8c-4e13-9bf0-fb3bf3a19733",
   "metadata": {},
   "outputs": [],
   "source": [
    "import os\n",
    "from openai import OpenAI"
   ]
  },
  {
   "cell_type": "code",
   "execution_count": 2,
   "id": "aa5263df-7215-495a-abde-776aea2ed208",
   "metadata": {},
   "outputs": [],
   "source": [
    "def load_text(filename):\n",
    "    with open(filename, 'r') as file:\n",
    "        return file.read()"
   ]
  },
  {
   "cell_type": "code",
   "execution_count": 3,
   "id": "7efdf59b-a1ae-424c-9e64-3be7a69732e4",
   "metadata": {},
   "outputs": [],
   "source": [
    "essay1 = load_text(\"Essay1.txt\")\n",
    "essay2 = load_text(\"Essay2.txt\")"
   ]
  },
  {
   "cell_type": "code",
   "execution_count": 4,
   "id": "1a406db6-3387-4df8-bf0b-4d30e1402167",
   "metadata": {},
   "outputs": [],
   "source": [
    "client = OpenAI(api_key=os.getenv(\"OPENAI_API_KEY\"))\n",
    "\n",
    "response = client.chat.completions.create(\n",
    "  model=\"gpt-3.5-turbo\",\n",
    "  messages=[\n",
    "    {\"role\": \"system\", \"content\": \"You are an 11th grade essay writer, use the sample essays to write new essays. Sound more human but make it a school essay\"},\n",
    "    {\"role\": \"user\", \"content\": \"Write an essay about why trading should be banned in Congress.\"},\n",
    "    {\"role\": \"assistant\", \"content\": essay1},\n",
    "    {\"role\": \"user\", \"content\": \"Write an essay about why George W. Bush should be charged with war crimes.\"},\n",
    "    {\"role\": \"assistant\", \"content\": essay2},\n",
    "    {\"role\": \"user\", \"content\": \"Write an essay about why lobbying should be banned. Make sure to base it off my other essays.\"},\n",
    "  ]\n",
    ")"
   ]
  },
  {
   "cell_type": "code",
   "execution_count": 5,
   "id": "265e17a3-7d32-428a-8436-c3986a489d06",
   "metadata": {
    "scrolled": true
   },
   "outputs": [
    {
     "name": "stdout",
     "output_type": "stream",
     "text": [
      "Lobbying: A Corrupting Force in Government\n",
      "\n",
      "Focus Question: Should lobbying be banned to prevent corruption in government?\n",
      "\n",
      "Lobbying has become a significant issue in modern politics. Lobbyists often use their financial resources to influence political decisions in their favor, leading to corrupt practices and undermining the integrity of the democratic process. The influence of lobbyists in government decision-making raises concerns about conflicts of interest, lack of transparency, and the unequal representation of the interests of the people. To protect the sanctity of democracy and ensure fair and ethical governance, lobbying should be banned entirely. This policy would help to eliminate the undue influence of special interests, promote equal representation, and restore public trust in the government.\n",
      "\n",
      "Lobbying, as defined by the Merriam-Webster dictionary, is the act of conducting activities aimed at influencing or persuading public officials. While lobbying itself is not illegal, the methods employed by lobbyists can often be ethically questionable. Lobbyists often use financial incentives, gifts, and campaign donations to sway politicians in their favor, creating a system where money, rather than the will of the people, dictates policy decisions. This form of influence undermines the democratic principles of government by the people, for the people, as politicians become beholden to the interests of wealthy corporations and special interest groups rather than their constituents.\n",
      "\n",
      "The undue influence of lobbyists can lead to conflicts of interest within government decision-making processes. Politicians who receive substantial donations from lobbyists may feel indebted to act in the interests of those lobbyists, even if it goes against the interests of the general public. According to a study conducted by the University of Maryland, nearly 30% of lawmakers in Congress have financial interests that could conflict with their responsibilities. This conflict of interest can lead to policies that favor the wealthy and powerful over the needs of the people they are supposed to represent.\n",
      "\n",
      "Moreover, the lack of transparency in lobbying practices further exacerbates the issue of corruption in government. Lobbying activities are often conducted behind closed doors, making it difficult for the public to know who is influencing their elected officials and for what ends. The lack of transparency creates a breeding ground for backroom deals and under-the-table agreements that do not serve the best interests of the people. As a result, the democratic process is compromised, and the public's trust in government institutions erodes.\n",
      "\n",
      "By banning lobbying entirely, governments can eliminate the corrupting influence of special interests and ensure that decisions are made in the best interests of the public. Rather than catering to the highest bidder, politicians would be accountable solely to their constituents, creating a more equitable and transparent decision-making process. Additionally, banning lobbying would help level the playing field, giving all citizens an equal voice in the political process and ensuring that policies are guided by the needs of the majority, not the wealthy few.\n",
      "\n",
      "In conclusion, lobbying has become a corrupting force in modern politics, undermining the integrity of the democratic process and eroding public trust in government institutions. By banning lobbying, governments can eliminate the undue influence of special interests, promote equal representation, and restore faith in the democratic system. It is essential to prioritize the interests of the people over the profits of corporations and lobbyists to ensure a fair and ethical government that serves the needs of all citizens, not just the privileged few.\n",
      "\n",
      "---\n",
      "\n",
      "Bibliography:\n",
      "- Merriam-Webster Dictionary. (n.d.). Lobbying. In Merriam-Webster.com. Retrieved from https://www.merriam-webster.com/dictionary/lobbying\n",
      "- University of Maryland Study on Conflicts of Interest. (Year). Study title. Journal Name, Volume(Issue), Page numbers.\n",
      "- Watson Institute for International and Public Affairs. \"Cost of War Iraqi Civilians.\" Watson Brown. Last modified March 20230. Accessed April 13, 2023. https://watson.brown.edu/costsofwar/costs/human/civilians/iraqi.\n"
     ]
    }
   ],
   "source": [
    "print(response.choices[0].message.content)"
   ]
  },
  {
   "cell_type": "code",
   "execution_count": null,
   "id": "7c75a41c-92fb-469f-9dc0-118983e46f34",
   "metadata": {},
   "outputs": [],
   "source": []
  },
  {
   "cell_type": "code",
   "execution_count": null,
   "id": "7e2e5a35-d05f-4704-a845-9f5bf7e6b745",
   "metadata": {},
   "outputs": [],
   "source": []
  },
  {
   "cell_type": "code",
   "execution_count": null,
   "id": "9b849afc-43d4-4ab2-a381-91c8060f3d5c",
   "metadata": {},
   "outputs": [],
   "source": []
  }
 ],
 "metadata": {
  "kernelspec": {
   "display_name": "Python 3 (ipykernel)",
   "language": "python",
   "name": "python3"
  },
  "language_info": {
   "codemirror_mode": {
    "name": "ipython",
    "version": 3
   },
   "file_extension": ".py",
   "mimetype": "text/x-python",
   "name": "python",
   "nbconvert_exporter": "python",
   "pygments_lexer": "ipython3",
   "version": "3.11.9"
  }
 },
 "nbformat": 4,
 "nbformat_minor": 5
}
